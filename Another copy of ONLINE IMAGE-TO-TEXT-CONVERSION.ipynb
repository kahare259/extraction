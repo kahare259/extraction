{
 "cells": [
  {
   "cell_type": "markdown",
   "metadata": {
    "id": "y9dbxkXpZKJy"
   },
   "source": [
    "### *ONLINE IMAGE TO TEXT CONVERSION AND EXTRACTION*\n",
    "* 1) Problem Statement: The objective is to build a CNN-based OCR model that can accurately extract text from images\n",
    "* 2) Data Collection\n",
    "* 3) Data Preprocessing\n",
    "* 4) Exploratory Data Analysis (EDA)\n",
    "* 5) Model Development\n",
    "* 6) Model Training\n",
    "* 7) Evaluation and Analysis\n",
    "* 8) Model Optimization\n",
    "* 9) creating a Predictive system (demo)"
   ]
  },
  {
   "cell_type": "code",
   "execution_count": 3,
   "metadata": {
    "executionInfo": {
     "elapsed": 32304,
     "status": "ok",
     "timestamp": 1739472243369,
     "user": {
      "displayName": "Cyrus Kemboi",
      "userId": "13293875954700726734"
     },
     "user_tz": -180
    },
    "id": "Ax6fIf7oxoAZ"
   },
   "outputs": [],
   "source": [
    "import numpy as np\n",
    "import matplotlib.pyplot as plt\n",
    "import seaborn as sns\n",
    "from collections import Counter\n",
    "from tensorflow.keras.callbacks import EarlyStopping\n",
    "from tensorflow.keras.datasets import mnist\n",
    "from tensorflow.keras.preprocessing.image import ImageDataGenerator\n",
    "from tensorflow.keras.models import Sequential\n",
    "from tensorflow.keras.layers import Conv2D, MaxPooling2D, Flatten, Dense\n",
    "from sklearn.model_selection import train_test_split\n",
    "from sklearn.metrics import classification_report, confusion_matrix\n"
   ]
  },
  {
   "cell_type": "code",
   "execution_count": 4,
   "metadata": {
    "colab": {
     "base_uri": "https://localhost:8080/"
    },
    "executionInfo": {
     "elapsed": 1484,
     "status": "ok",
     "timestamp": 1731616777231,
     "user": {
      "displayName": "Cyrus Kemboi",
      "userId": "13293875954700726734"
     },
     "user_tz": -180
    },
    "id": "UXrUUEhyx7qI",
    "outputId": "e00ffc44-43bd-40cb-abb4-59db24041ceb"
   },
   "outputs": [
    {
     "name": "stdout",
     "output_type": "stream",
     "text": [
      "Train Images Shape: (60000, 28, 28)\n",
      "Train Labels Shape: (60000,)\n",
      "Test Images Shape: (10000, 28, 28)\n",
      "Test Labels Shape: (10000,)\n"
     ]
    }
   ],
   "source": [
    "# Load the MNIST dataset\n",
    "(train_images, train_labels), (test_images, test_labels) = mnist.load_data()\n",
    "\n",
    "# Normalize the images to be values between 0 and 1\n",
    "train_images = train_images / 255.0\n",
    "test_images = test_images / 255.0\n",
    "\n",
    "# Print the shape of the data\n",
    "print(\"Train Images Shape:\", train_images.shape)\n",
    "print(\"Train Labels Shape:\", train_labels.shape)\n",
    "print(\"Test Images Shape:\", test_images.shape)\n",
    "print(\"Test Labels Shape:\", test_labels.shape)"
   ]
  },
  {
   "cell_type": "code",
   "execution_count": 5,
   "metadata": {
    "id": "jFNnIYXlzsVI"
   },
   "outputs": [],
   "source": [
    "# Create an ImageDataGenerator instance with desired augmentation parameters\n",
    "datagen = ImageDataGenerator(\n",
    "    rotation_range=10,      # Rotate images by a random degree between -10 and 10\n",
    "    width_shift_range=0.1,  # Shift images horizontally by a fraction of total width\n",
    "    height_shift_range=0.1, # Shift images vertically by a fraction of total height\n",
    "    shear_range=0.2,        # Shear intensity (angle in counter-clockwise direction)\n",
    "    zoom_range=0.2,         # Zoom images by a random factor between 0.8 and 1.2\n",
    "    horizontal_flip=True,   # Flip images horizontally\n",
    "    vertical_flip=False     # Do not flip images vertically\n",
    ")\n"
   ]
  },
  {
   "cell_type": "code",
   "execution_count": 20,
   "metadata": {
    "id": "ohHi0vFezult"
   },
   "outputs": [],
   "source": [
    "\n",
    "# Reshape the data to 4D tensor (batch_size, height, width, channels) for ImageDataGenerator\n",
    "train_images_reshaped = train_images.reshape(train_images.shape[0], 28, 28, 1)\n",
    "\n",
    "# Fit the ImageDataGenerator on the training data\n",
    "datagen.fit(train_images_reshaped)\n",
    "\n",
    "# Create an iterator to generate augmented images\n",
    "augmented_images_iterator = datagen.flow(train_images_reshaped, train_labels, batch_size=32)\n"
   ]
  },
  {
   "cell_type": "code",
   "execution_count": 21,
   "metadata": {
    "colab": {
     "base_uri": "https://localhost:8080/",
     "height": 1000
    },
    "executionInfo": {
     "elapsed": 483,
     "status": "ok",
     "timestamp": 1731616813250,
     "user": {
      "displayName": "Cyrus Kemboi",
      "userId": "13293875954700726734"
     },
     "user_tz": -180
    },
    "id": "GT38_FPcx8JX",
    "outputId": "8f03b470-f161-4cbf-c5e3-12974f1226f5"
   },
   "outputs": [
    {
     "ename": "AttributeError",
     "evalue": "'NumpyArrayIterator' object has no attribute 'next'",
     "output_type": "error",
     "traceback": [
      "\u001b[1;31m---------------------------------------------------------------------------\u001b[0m",
      "\u001b[1;31mAttributeError\u001b[0m                            Traceback (most recent call last)",
      "Cell \u001b[1;32mIn[21], line 6\u001b[0m\n\u001b[0;32m      4\u001b[0m plt\u001b[38;5;241m.\u001b[39mfigure(figsize\u001b[38;5;241m=\u001b[39m(\u001b[38;5;241m10\u001b[39m, \u001b[38;5;241m10\u001b[39m))\n\u001b[0;32m      5\u001b[0m \u001b[38;5;28;01mfor\u001b[39;00m i \u001b[38;5;129;01min\u001b[39;00m \u001b[38;5;28mrange\u001b[39m(\u001b[38;5;241m9\u001b[39m):\n\u001b[1;32m----> 6\u001b[0m     batch \u001b[38;5;241m=\u001b[39m \u001b[43maugmented_images_iterator\u001b[49m\u001b[38;5;241;43m.\u001b[39;49m\u001b[43mnext\u001b[49m()\n\u001b[0;32m      7\u001b[0m     image \u001b[38;5;241m=\u001b[39m batch[\u001b[38;5;241m0\u001b[39m][\u001b[38;5;241m0\u001b[39m]\u001b[38;5;241m.\u001b[39mreshape(\u001b[38;5;241m28\u001b[39m, \u001b[38;5;241m28\u001b[39m)\n\u001b[0;32m      8\u001b[0m     plt\u001b[38;5;241m.\u001b[39msubplot(\u001b[38;5;241m3\u001b[39m, \u001b[38;5;241m3\u001b[39m, i \u001b[38;5;241m+\u001b[39m \u001b[38;5;241m1\u001b[39m)\n",
      "\u001b[1;31mAttributeError\u001b[0m: 'NumpyArrayIterator' object has no attribute 'next'"
     ]
    },
    {
     "data": {
      "text/plain": [
       "<Figure size 1000x1000 with 0 Axes>"
      ]
     },
     "metadata": {},
     "output_type": "display_data"
    }
   ],
   "source": [
    "# Generate and visualize augmented images\n",
    "import matplotlib.pyplot as plt\n",
    "\n",
    "plt.figure(figsize=(10, 10))\n",
    "for i in range(9):\n",
    "    batch = augmented_images_iterator.next()\n",
    "    image = batch[0][0].reshape(28, 28)\n",
    "    plt.subplot(3, 3, i + 1)\n",
    "    plt.imshow(image, cmap='gray')\n",
    "    plt.axis('off')\n",
    "plt.tight_layout()\n",
    "plt.show()\n"
   ]
  },
  {
   "cell_type": "code",
   "execution_count": null,
   "metadata": {
    "id": "GdBNhG-oyU4e"
   },
   "outputs": [],
   "source": [
    "# Flatten the images for easier analysis\n",
    "train_images_flat = train_images.reshape(train_images.shape[0], -1)\n"
   ]
  },
  {
   "cell_type": "code",
   "execution_count": null,
   "metadata": {
    "colab": {
     "base_uri": "https://localhost:8080/",
     "height": 564
    },
    "executionInfo": {
     "elapsed": 21,
     "status": "ok",
     "timestamp": 1729316946603,
     "user": {
      "displayName": "Cyrus Kemboi",
      "userId": "13293875954700726734"
     },
     "user_tz": 420
    },
    "id": "qd6_y67W0LP7",
    "outputId": "22441c90-2076-4c38-dd85-ada50cca47c1"
   },
   "outputs": [],
   "source": [
    "# 1. Histogram of Pixel Intensities\n",
    "plt.figure(figsize=(12, 6))\n",
    "plt.hist(train_images_flat[0], bins=50, color='skyblue', alpha=0.7)\n",
    "plt.title('Histogram of Pixel Intensities')\n",
    "plt.xlabel('Pixel Intensity')\n",
    "plt.ylabel('Frequency')\n",
    "plt.show()"
   ]
  },
  {
   "cell_type": "code",
   "execution_count": null,
   "metadata": {
    "colab": {
     "base_uri": "https://localhost:8080/",
     "height": 718
    },
    "executionInfo": {
     "elapsed": 19,
     "status": "ok",
     "timestamp": 1729316946603,
     "user": {
      "displayName": "Cyrus Kemboi",
      "userId": "13293875954700726734"
     },
     "user_tz": 420
    },
    "id": "maxk86OU1WAb",
    "outputId": "0d2eba47-38eb-47ec-9856-4abbf9a4de90"
   },
   "outputs": [],
   "source": [
    "#  Scatter Plot of Pixel Intensities\n",
    "plt.figure(figsize=(8, 8))\n",
    "plt.scatter(train_images_flat[0], train_images_flat[1], alpha=0.5)\n",
    "plt.title('Scatter Plot of Pixel Intensities')\n",
    "plt.xlabel('Pixel Intensity (Image 1)')\n",
    "plt.ylabel('Pixel Intensity (Image 2)')\n",
    "plt.show()"
   ]
  },
  {
   "cell_type": "code",
   "execution_count": null,
   "metadata": {
    "colab": {
     "base_uri": "https://localhost:8080/",
     "height": 193
    },
    "executionInfo": {
     "elapsed": 447,
     "status": "error",
     "timestamp": 1729316947033,
     "user": {
      "displayName": "Cyrus Kemboi",
      "userId": "13293875954700726734"
     },
     "user_tz": 420
    },
    "id": "2nln7BnF1ZQh",
    "outputId": "2eb00c1c-179f-46c8-c77f-3547061ed4d6"
   },
   "outputs": [],
   "source": [
    "# Pairplot of Pixel Intensities\n",
    "sns.pairplot(pd.DataFrame(train_images_flat[:, :5]))\n",
    "plt.suptitle('Pairplot of Pixel Intensities', y=1.02)\n",
    "plt.show()"
   ]
  },
  {
   "cell_type": "code",
   "execution_count": null,
   "metadata": {
    "id": "cTYGOPZj1gdp"
   },
   "outputs": [],
   "source": [
    "# Heatmap of Pixel Intensities\n",
    "plt.figure(figsize=(10, 8))\n",
    "sns.heatmap(train_images_flat[:10], cmap='viridis')\n",
    "plt.title('Heatmap of Pixel Intensities')\n",
    "plt.xlabel('Pixel')\n",
    "plt.ylabel('Image')\n",
    "plt.show()"
   ]
  },
  {
   "cell_type": "code",
   "execution_count": null,
   "metadata": {
    "id": "4tlRfU951mpQ"
   },
   "outputs": [],
   "source": [
    "# Pie Chart of Class Label Distribution\n",
    "class_counts = dict(Counter(train_labels))\n",
    "plt.figure(figsize=(8, 8))\n",
    "plt.pie(class_counts.values(), labels=class_counts.keys(), autopct='%1.1f%%', startangle=140)\n",
    "plt.title('Class Label Distribution')\n",
    "plt.axis('equal')\n",
    "plt.show()"
   ]
  },
  {
   "cell_type": "code",
   "execution_count": null,
   "metadata": {
    "id": "0k0I2b2Q1tVl"
   },
   "outputs": [],
   "source": [
    "\n",
    "# Split the data into training and testing sets\n",
    "X_train, X_test, y_train, y_test = train_test_split(train_images, train_labels, test_size=0.2, random_state=42)\n",
    "\n",
    "# Print the shapes of the training and testing sets\n",
    "print(\"Training Images Shape:\", X_train.shape)\n",
    "print(\"Training Labels Shape:\", y_train.shape)\n",
    "print(\"Testing Images Shape:\", X_test.shape)\n",
    "print(\"Testing Labels Shape:\", y_test.shape)\n"
   ]
  },
  {
   "cell_type": "code",
   "execution_count": null,
   "metadata": {
    "id": "BgoHblxI1_dX"
   },
   "outputs": [],
   "source": [
    "# Build the CNN model\n",
    "model = Sequential([\n",
    "    Conv2D(32, (3, 3), activation='relu', input_shape=(28, 28, 1)),\n",
    "    MaxPooling2D((2, 2)),\n",
    "    Conv2D(64, (3, 3), activation='relu'),\n",
    "    MaxPooling2D((2, 2)),\n",
    "    Flatten(),\n",
    "    Dense(128, activation='relu'),\n",
    "    Dense(10, activation='softmax')\n",
    "])\n",
    "\n",
    "# Compile the model\n",
    "model.compile(optimizer='adam',\n",
    "              loss='sparse_categorical_crossentropy',\n",
    "              metrics=['accuracy'])\n",
    "\n",
    "# Print the model summary\n",
    "model.summary()\n"
   ]
  },
  {
   "cell_type": "code",
   "execution_count": null,
   "metadata": {
    "id": "sn7AApSJ2NoL"
   },
   "outputs": [],
   "source": [
    "model.compile(optimizer='adam', loss='sparse_categorical_crossentropy',metrics=['accuracy'])\n"
   ]
  },
  {
   "cell_type": "code",
   "execution_count": null,
   "metadata": {
    "id": "fKncneMM2WqE"
   },
   "outputs": [],
   "source": [
    "\n",
    "# Define the EarlyStopping callback\n",
    "early_stopping = EarlyStopping(monitor='val_loss', patience=3, restore_best_weights=True)\n",
    "\n",
    "# Train the model with early stopping\n",
    "history = model.fit(X_train, y_train, epochs=10, batch_size=32,\n",
    "                    validation_data=(X_test, y_test), callbacks=[early_stopping])\n",
    "\n",
    "# Evaluate the model on the test set\n",
    "test_loss, test_accuracy = model.evaluate(X_test, y_test)\n",
    "\n",
    "print(f\"Test Loss: {test_loss}\")\n",
    "print(f\"Test Accuracy: {test_accuracy}\")\n"
   ]
  },
  {
   "cell_type": "code",
   "execution_count": null,
   "metadata": {
    "id": "xzihIv0M2g4n"
   },
   "outputs": [],
   "source": [
    "\n",
    "# Evaluate the model on the test set\n",
    "test_loss, test_accuracy = model.evaluate(X_test, y_test)\n",
    "\n",
    "print(f\"Test Loss: {test_loss}\")\n",
    "print(f\"Test Accuracy: {test_accuracy}\")\n",
    "\n",
    "# Perform predictions on the test set\n",
    "y_pred = model.predict(X_test)\n",
    "y_pred_classes = np.argmax(y_pred, axis=1)\n",
    "\n",
    "# Print classification report and confusion matrix\n",
    "print(\"\\nClassification Report:\")\n",
    "print(classification_report(y_test, y_pred_classes))\n",
    "\n",
    "print(\"\\nConfusion Matrix:\")\n",
    "print(confusion_matrix(y_test, y_pred_classes))\n"
   ]
  },
  {
   "cell_type": "code",
   "execution_count": null,
   "metadata": {
    "id": "Sr4w9sU-4s8t"
   },
   "outputs": [],
   "source": [
    "# Calculate the confusion matrix\n",
    "conf_matrix = confusion_matrix(y_test, y_pred_classes)\n",
    "\n",
    "# Plot the confusion matrix\n",
    "plt.figure(figsize=(10, 8))\n",
    "sns.heatmap(conf_matrix, annot=True, fmt='d', cmap='Blues',\n",
    "            xticklabels=range(10), yticklabels=range(10))\n",
    "plt.xlabel('Predicted Label')\n",
    "plt.ylabel('True Label')\n",
    "plt.title('Confusion Matrix')\n",
    "plt.show()"
   ]
  },
  {
   "cell_type": "code",
   "execution_count": null,
   "metadata": {
    "id": "j_7CgZiD6N8f"
   },
   "outputs": [],
   "source": [
    "# Install specific versions of the required libraries\n",
    "!pip -q install langchain==0.3.19\n",
    "!pip -q install langchain-google-genai==2.0.10\n",
    "!pip -q install google-generativeai==0.8.0\n",
    "!pip -q install google-ai-generativelanguage==0.6.2  # Downgraded to match google-generativeai 0.8.0\n",
    "!pip -q install docarray==0.40.0\n",
    "!pip -q install langchain_experimental\n",
    "!pip -q install langchain_core"
   ]
  },
  {
   "cell_type": "code",
   "execution_count": null,
   "metadata": {
    "id": "aePR4Oz_7sbV"
   },
   "outputs": [],
   "source": [
    "#Check The model specification\n",
    "!pip show langchain langchain-core"
   ]
  },
  {
   "cell_type": "code",
   "execution_count": null,
   "metadata": {
    "id": "nqd529558MBb"
   },
   "outputs": [],
   "source": [
    "#@title Setting up the Auth\n",
    "import os\n",
    "import google.generativeai as genai\n",
    "from google.colab import userdata\n",
    "from google.colab import userdata\n"
   ]
  },
  {
   "cell_type": "code",
   "execution_count": null,
   "metadata": {
    "id": "tMKI6niL8YVp"
   },
   "outputs": [],
   "source": [
    "API_KEY=userdata.get('GOOGLE_API_KEY')\n",
    "\n",
    "from IPython.display import display\n",
    "from IPython.display import Markdown\n",
    "\n",
    "os.environ[\"GOOGLE_API_KEY\"] = userdata.get('GOOGLE_API_KEY')\n",
    "\n",
    "genai.configure(api_key=os.environ[\"GOOGLE_API_KEY\"])"
   ]
  },
  {
   "cell_type": "code",
   "execution_count": null,
   "metadata": {
    "id": "rO6vwhCv80St"
   },
   "outputs": [],
   "source": [
    "import requests\n",
    "from IPython.display import Image\n",
    "\n",
    "image_url = \"https://templates.invoicehome.com/receipt-template-us-neat-750px.png\"\n",
    "content = requests.get(image_url).content\n",
    "Image(content,width=300)"
   ]
  },
  {
   "cell_type": "code",
   "execution_count": null,
   "metadata": {
    "id": "icAhfZil9DQ-"
   },
   "outputs": [],
   "source": [
    "from langchain_core.messages import HumanMessage\n",
    "from langchain_google_genai import ChatGoogleGenerativeAI\n",
    "\n",
    "llm = ChatGoogleGenerativeAI(model=\"gemini-pro-vision\")\n",
    "\n",
    "# example\n",
    "message = HumanMessage(\n",
    "    content=[\n",
    "        {\n",
    "            \"type\": \"text\",\n",
    "            \"text\": \"What is the image showing ??\",\n",
    "        },\n",
    "        {\n",
    "            \"type\": \"image_url\",\n",
    "            \"image_url\": image_url\n",
    "         },\n",
    "    ]\n",
    ")\n",
    "\n",
    "llm.invoke([message])"
   ]
  },
  {
   "cell_type": "code",
   "execution_count": null,
   "metadata": {
    "id": "nPW2Xaex9GPC"
   },
   "outputs": [],
   "source": [
    "!pip install streamlit"
   ]
  },
  {
   "cell_type": "code",
   "execution_count": null,
   "metadata": {
    "id": "qKVpeRhGI0zu"
   },
   "outputs": [],
   "source": [
    "!wget -q -O - ipv4.icanhazip.com"
   ]
  },
  {
   "cell_type": "code",
   "execution_count": null,
   "metadata": {
    "id": "DpSujQ86JVhf"
   },
   "outputs": [],
   "source": [
    "!streamlit run app.py & npx localtunnel --port 8501"
   ]
  },
  {
   "cell_type": "code",
   "execution_count": null,
   "metadata": {
    "id": "zzwUnsXCJZuC"
   },
   "outputs": [],
   "source": []
  },
  {
   "cell_type": "code",
   "execution_count": null,
   "metadata": {},
   "outputs": [],
   "source": []
  }
 ],
 "metadata": {
  "accelerator": "TPU",
  "colab": {
   "gpuType": "V28",
   "provenance": [
    {
     "file_id": "1Zq_VDAPqOcO3b8ldoiPuDcQmTMCyFvMS",
     "timestamp": 1728249283902
    },
    {
     "file_id": "1nknIzbynPmledB7K_Ps6omGmmgog3lsc",
     "timestamp": 1728245898097
    }
   ]
  },
  "kernelspec": {
   "display_name": "Python 3 (ipykernel)",
   "language": "python",
   "name": "python3"
  },
  "language_info": {
   "codemirror_mode": {
    "name": "ipython",
    "version": 3
   },
   "file_extension": ".py",
   "mimetype": "text/x-python",
   "name": "python",
   "nbconvert_exporter": "python",
   "pygments_lexer": "ipython3",
   "version": "3.9.18"
  }
 },
 "nbformat": 4,
 "nbformat_minor": 4
}
